{
 "cells": [
  {
   "cell_type": "code",
   "execution_count": 147,
   "metadata": {},
   "outputs": [],
   "source": [
    "import numpy as np\n",
    "import math\n",
    "\n",
    "\n",
    "def truncation(function):\n",
    "\n",
    "    def method(*args,accuracy=3):\n",
    "\n",
    "        ans = function(*args)\n",
    "        \n",
    "        ans = np.around(ans,accuracy)\n",
    "\n",
    "        return ans\n",
    "\n",
    "    return method\n",
    "\n",
    "\n",
    "# code and test voltage controle class on 28/11/2020\n",
    "\n",
    "# discovered np.around could round both complex and flotting point numbers\n",
    "\n",
    "# added trucate decorator and try to add trucate_dict to set precisions for key value pair in dictonary"
   ]
  },
  {
   "cell_type": "code",
   "execution_count": 187,
   "metadata": {},
   "outputs": [],
   "source": [
    "class BasicElectrical:\n",
    "    \n",
    "    def __init__(self,accuracy=3\n",
    "                 \n",
    "                 ,freq=50):\n",
    "\n",
    "        self.accuracy = accuracy\n",
    "\n",
    "        self.freq = freq\n",
    "        \n",
    "        np.set_printoptions(precision=accuracy)\n",
    "    \n",
    "    def setprecision(self,*args):\n",
    "\n",
    "        #A = map(lambda x:complex(round(x.real,self.accuracy),round(x.imag,self.accuracy)),args)\n",
    "        \n",
    "        A = map(lambda x:np.around(x,self.accuracy),args)\n",
    "\n",
    "        return list(A)\n",
    "    \n",
    "    @truncation\n",
    "    def power(self,V,I):\n",
    "\n",
    "        return V*(I.conjugate())\n",
    "    \n",
    "    @truncation\n",
    "    def PhaseDiff(self,a,b):\n",
    "        \n",
    "        alpha = np.arctan(a.imag/a.real)\n",
    "        \n",
    "        beta = np.arctan(b.imag/b.real)\n",
    "        \n",
    "        return ((alpha - beta)/np.pi)*180\n",
    "    \n",
    "    @truncation\n",
    "    def polar(self,r,theta):\n",
    "        \n",
    "        theta = theta*np.pi/180\n",
    "        \n",
    "        x = round(r*np.cos(theta),self.accuracy)\n",
    "        \n",
    "        y = round(r*np.sin(theta),self.accuracy)\n",
    "        \n",
    "        return complex(x,y)\n",
    "    \n",
    "    @truncation\n",
    "    def rectangle(self,z):\n",
    "        \n",
    "        return f\"{round(abs(z),self.accuracy)} at an angle {round(np.arctan(z.imag/z.real)*180/np.pi,self.accuracy)}\"\n",
    "    \n",
    "    def propagation_constants(self,z,y,length):\n",
    "        \n",
    "        gama = np.sqrt(z*y)\n",
    "        \n",
    "        alpha = gama.real\n",
    "        \n",
    "        beta = gama.imag\n",
    "        \n",
    "        Zc = np.sqrt(z/y)\n",
    "        \n",
    "        params = {\n",
    "            'gama':self.rectangle(gama),\n",
    "            \n",
    "            'alpha':np.around(alpha,self.accuracy),\n",
    "            \n",
    "            'beta':np.around(beta,self.accuracy),\n",
    "            \n",
    "            'SurgeImpedence':self.rectangle(Zc)\n",
    "        }\n",
    "        \n",
    "        return params\n",
    "        \n",
    "    def ABCD_T(self,Z,Y):\n",
    "        \n",
    "        A = 1+(Y*Z)/2 ; B= Z*(1+(Y*Z)/4) ; C = Y ; D = A\n",
    "        \n",
    "        return np.asarray([[A,B],[C,D]])\n",
    "    \n",
    "    def Source_T(self,Vr,Ir,Z,Y):\n",
    "        \n",
    "        R = np.asarray([[Vr],[Ir]])\n",
    "        \n",
    "        A = self.ABCD_T(Z,Y)\n",
    "        \n",
    "        return np.matmul(A*R)\n",
    "    \n",
    "    def ABCD_PI(self,Z,Y):\n",
    "        \n",
    "        A = 1+(Y*Z)/2 ; B=Z ; C=Y(1+(Y*z)/4); D = A\n",
    "        \n",
    "        return np.asarray([[A,B],[C,D]])\n",
    "    \n",
    "    def Source_PI(self,Vr,Ir,Z,Y):\n",
    "        \n",
    "        R = np.asarray([[Vr],[Ir]])\n",
    "        \n",
    "        A = self.ABCD_PI(Z,Y)\n",
    "        \n",
    "        return np.matmul(A*R)\n",
    "    \n",
    "    def ABCD_Long(self,z,y,length):\n",
    "        \n",
    "        gama = pow(z*y,0.5)\n",
    "        \n",
    "        Zc = pow(z/y,0.5)\n",
    "        \n",
    "        A = np.cosh(gama*length) ; B = Zc*np.sinh(gama*length) ; C = np.sinh(gama*length)/Zc ; D = A\n",
    "        \n",
    "        return np.asarray([[A,B],[C,D]])\n",
    "    \n",
    "    def Source_Long(self,Vr,Ir,z,y,length):\n",
    "        \n",
    "        R = np.asarray([[Vr],[Ir]])\n",
    "        \n",
    "        A = self.ABCD_Long(z,y,length)\n",
    "        \n",
    "        return np.matmul(A*R)\n",
    "    \n",
    "    def PhaseComponents(self,Va0,Va1,Va2):\n",
    "        \n",
    "        Lambda = self.polar(1,120)\n",
    "\n",
    "        Va = Va0+Va1+Va2\n",
    "\n",
    "        Vb = Va0+Lambda*Lambda*Va1+Lambda*Va2\n",
    "\n",
    "        Vc = Va0+Lambda*Va1+Lambda*Lambda*Va2\n",
    "\n",
    "        V = [Va,Vb,Vc]\n",
    "\n",
    "        V = map(lambda x:np.around(x,self.accuracy),V)\n",
    "\n",
    "        return V\n",
    "    \n",
    "    def SymetricComponents(self,Va,Vb,Vc):\n",
    "        \n",
    "        Lambda = self.polar(1,120)\n",
    "\n",
    "        Va0 = (1/3)*(Va+Vb+Vc)\n",
    "\n",
    "        Va1 = (1/3)*(Va+Lambda*Vb+Lambda*Lambda*Vc)\n",
    "\n",
    "        Va2 = (1/3)*(Va+Lambda*Lambda*Vb+Lambda*Vc)\n",
    "\n",
    "        V = [Va0,Va1,Va2]\n",
    "\n",
    "        V = map(lambda x:np.around(x,self.accuracy),V)\n",
    "\n",
    "        return list(V)"
   ]
  },
  {
   "cell_type": "code",
   "execution_count": 165,
   "metadata": {},
   "outputs": [],
   "source": [
    "class VoltageControle(BasicElectrical):\n",
    "    \n",
    "    def __init__(accuracy=3):\n",
    "\n",
    "        super().__init__(accuracy=accuracy)\n",
    "        \n",
    "    \n",
    "    @truncation\n",
    "    def SynchronousMachine(self,E,V,X,delta):\n",
    "        \n",
    "        delta = np.pi/180\n",
    "        \n",
    "        P = abs(E)*abs(V)*np.sin(delta)/X\n",
    "   \n",
    "        Q = (abs(E)*abs(V)*np.cos(delta)/X) - (pow(abs(V),2)/X)\n",
    "    \n",
    "        return complex(P,Q)\n",
    "    \n",
    "    @truncation\n",
    "    def TapChaningTransformer(self,V1,V2,P,Q,R,X):\n",
    "        \n",
    "        ans = (V2/V1)*(1/(1-(R*P+X*Q)/(V1*V2)))\n",
    "        \n",
    "        return pow(ans,0.5)\n",
    "    \n",
    "    @truncation\n",
    "    def CircleParams(self,Vs,Vr,A,B,flag=False):\n",
    "        \n",
    "        beta = np.arctan(B.Imag/B.real)/np.pi\n",
    "        \n",
    "        alpha = np.arctan(A.Imag/A.real)/np.pi\n",
    "        \n",
    "        D = abs(A)*pow(abs(Vs),2)/abs(B)\n",
    "        \n",
    "        x = D*np.cos(beta-alpha)\n",
    "        \n",
    "        y = D*np.sin(beta-alpha)\n",
    "        \n",
    "        r = pow(abs(Vs)*abs(Vr)/abs(B),2)\n",
    "        \n",
    "        if flag is False:\n",
    "        \n",
    "            print(f'Center (x,y) => {x,y} radius => {r}')\n",
    "            \n",
    "            print(f'Distance B/w origin and center {D} at an angle {180*(beta-alpha)}')\n",
    "            \n",
    "            return -x,-y,r\n",
    "            \n",
    "        else:\n",
    "            \n",
    "            print(f'Center (x,y) => {-x,-y} radius => {r}')\n",
    "            \n",
    "            print(f'Distance B/w origin and center {D} at an angle {180*(beta-alpha)}')\n",
    "            \n",
    "            return x,y,r\n",
    "    \n",
    "    def SendingEndCircle(self,Vs,Vr,D,B):\n",
    "        \n",
    "        return self.CircleParams(Vs,Vr,D,B,flag=False)\n",
    "    \n",
    "    def ReceiveEndCircle(self,Vs,Vr,A,B):\n",
    "        \n",
    "        return self.CircleParams(Vs,Vr,A,B,flag=True)\n",
    "        \n",
    "        \n",
    "        "
   ]
  },
  {
   "cell_type": "code",
   "execution_count": 166,
   "metadata": {},
   "outputs": [],
   "source": [
    "class Faults(BasicElectrical):\n",
    "    \n",
    "    def __init__(self,Ea,z0=None,z1=None,z2=None,zn=None,zf=None,accuracy=3):\n",
    "        \n",
    "        super().__init__(accuracy=accuracy)\n",
    "        \n",
    "        self.Ea = Ea\n",
    "        \n",
    "        self.z0 = z0\n",
    "        \n",
    "        self.z1 = z1\n",
    "        \n",
    "        self.z2 = z2\n",
    "        \n",
    "        self.zn = zn\n",
    "        \n",
    "        self.zf = zf\n",
    "        \n",
    "    def FaultData(self,Va0,Va1,Va2,Ia0,Ia1,Ia2):\n",
    "        \n",
    "        [Va0,Va1,Va2] = self.setprecision(Va0,Va1,Va2)\n",
    "\n",
    "        [Ia0,Ia1,Ia2] = self.setprecision(Ia0,Ia1,Ia2)\n",
    "\n",
    "        [Va,Vb,Vc] = self.PhaseComponents(Va0,Va1,Va2)\n",
    "\n",
    "        [Ia,Ib,Ic] = self.PhaseComponents(Ia0,Ia1,Ia2)\n",
    "\n",
    "        data = {'Ia0':Ia0,'Ia1':Ia1,'Ia2':Ia2,\n",
    "                'Va0':Va0,'Va1':Va1,'Va2':Va2,\n",
    "                'Va':Va,'Vb':Vb,'Vc':Vc,\n",
    "                'Ia':Ia,'Ib':Ib,'Ic':Ic}\n",
    "        \n",
    "        return data   \n",
    "    \n",
    "    def SingleLineFault(self):\n",
    "\n",
    "        Ia1 = (self.Ea)/(self.z0+self.z1+self.z2)\n",
    "\n",
    "        Ia0 = Ia1\n",
    "\n",
    "        Ia2 = Ia1\n",
    "\n",
    "        Va1 = self.Ea - Ia1*self.z1\n",
    "\n",
    "        Va2 = -Ia2*self.z2\n",
    "\n",
    "        Va0 = -Ia0*self.z0\n",
    "\n",
    "        FaultData = self.FaultData(Va0,Va1,Va2,Ia0,Ia1,Ia2)\n",
    "        \n",
    "        for key,data in FaultData.items():\n",
    "            print(key+\":\",data)\n",
    "\n",
    "        return FaultData\n",
    "\n",
    "    def LineToLineFault(self):\n",
    "\n",
    "        Ia0 = 0\n",
    "\n",
    "        Ia1 = (self.Ea)/(self.z1+self.z2)\n",
    "\n",
    "        Ia2 = -Ia1\n",
    "\n",
    "        Va1 = self.Ea - Ia1*self.z1\n",
    "\n",
    "        Va2 = -Ia2*self.z2\n",
    "\n",
    "        Va0 = -Ia0*self.z0\n",
    "\n",
    "        FaultData = self.FaultData(Va0,Va1,Va2,Ia0,Ia1,Ia2)\n",
    "        \n",
    "        for key,data in FaultData.items():\n",
    "            print(key+\":\",data)\n",
    "\n",
    "\n",
    "        return FaultData\n",
    "\n",
    "    def DoubleLineGroundFault(self):\n",
    "\n",
    "        Ia1 = (self.Ea)/(self.z1+(self.z0*self.z2)/(self.z0+self.z2))\n",
    "\n",
    "        Va1 = self.Ea - Ia1*self.z1\n",
    "\n",
    "        Va0 = Va1\n",
    "\n",
    "        Va2 = Va1\n",
    "\n",
    "        Ia0 = -Va0/self.z0\n",
    "\n",
    "        Ia2 = -Va2/self.z2\n",
    "        \n",
    "        FaultData = self.FaultData(Va0,Va1,Va2,Ia0,Ia1,Ia2)\n",
    "        \n",
    "        for key,data in FaultData.items():\n",
    "            print(key+\":\",data)\n",
    "\n",
    "        return FaultData\n",
    "\n",
    "    def ThreePhaseFault(self):\n",
    "\n",
    "        Ia0 = 0\n",
    "\n",
    "        Ia1 = self.Ea/self.z1\n",
    "\n",
    "        Ia2 = 0\n",
    "\n",
    "        Va0 = 0\n",
    "\n",
    "        Va1 = 0\n",
    "\n",
    "        Va2 = 0\n",
    "\n",
    "        FaultData = self.FaultData(Va0,Va1,Va2,Ia0,Ia1,Ia2)\n",
    "        \n",
    "        for key,data in FaultData.items():\n",
    "            print(key+\":\",data)\n",
    "\n",
    "        return FaultData\n",
    "    \n",
    "    def SingleLineFaultZ(self):\n",
    "    \n",
    "        Ia1 = (self.Ea)/(self.z0+self.z1+self.z2+3*(self.zn+self.zf))\n",
    "        \n",
    "        Ia2 = Ia1\n",
    "        \n",
    "        Ia0 = Ia1\n",
    "        \n",
    "        Va0 = -Ia0*(self.z0+3*self.zn)\n",
    "        \n",
    "        Va1 = Ea - Ia1*self.z1\n",
    "        \n",
    "        Va2 = -Ia2*self.z2\n",
    "        \n",
    "        FaultData = self.FaultData(Va0,Va1,Va2,Ia0,Ia1,Ia2)\n",
    "        \n",
    "        for key,data in FaultData.items():\n",
    "            print(key+\":\",data)\n",
    "        \n",
    "        return FaultData\n",
    "\n",
    "    def LineToLineFaultZ(self):\n",
    "\n",
    "        Ia1 = (self.Ea)/(self.z1+self.z2+self.zf)\n",
    "        \n",
    "        Ia2 = -Ia1\n",
    "        \n",
    "        Ia0 = 0\n",
    "        \n",
    "        Va1 = Ea - Ia1*self.z1\n",
    "        \n",
    "        Va2 = -Ia2*self.z2\n",
    "        \n",
    "        Va0 = -Ia0*(self.z0)\n",
    "        \n",
    "        FaultData = self.FaultData(Va0,Va1,Va2,Ia0,Ia1,Ia2)\n",
    "        \n",
    "        for key,data in FaultData.items():\n",
    "            print(key+\":\",data)\n",
    "        \n",
    "        return FaultData\n",
    "\n",
    "    def DoubleLineFaultz(self):\n",
    "\n",
    "        zeq = self.z2*(self.z0+3*self.zn+3*self.zf)/(self.z2+self.z0+3*self.zn+3*self.zf)\n",
    "\n",
    "        Ia1 = (self.Ea)/(self.z1+zeq)\n",
    "        \n",
    "        Ia2 = -1*(self.Ea-self.Ia1*self.z1)/(self.z2)\n",
    "        \n",
    "        Ia0 = -1*(self.Ea-Ia1*self.z1)/(self.z0+3*(self.zn+self.zf))\n",
    "        \n",
    "        Va1 = Ea - Ia1*self.z1\n",
    "        \n",
    "        Va2 = -Ia2*self.z2\n",
    "        \n",
    "        Va0 = -Ia0*(self.z0+3*self.zn)\n",
    "        \n",
    "        FaultData = self.FaultData(Va0,Va1,Va2,Ia0,Ia1,Ia2)\n",
    "        \n",
    "        for key,data in FaultData.items():\n",
    "            print(key+\":\",data)\n",
    "\n",
    "        return FaultData"
   ]
  },
  {
   "cell_type": "code",
   "execution_count": 167,
   "metadata": {},
   "outputs": [
    {
     "name": "stdout",
     "output_type": "stream",
     "text": [
      "[(100+50j), (546.396+165.475j), (-146.399-65.475j)]\n"
     ]
    }
   ],
   "source": [
    "SymetricComponents = BasicElectrical().SymetricComponents\n",
    "\n",
    "Va = complex(500,150)\n",
    "\n",
    "Vb = complex(100,-600)\n",
    "\n",
    "Vc = complex(-300,600)\n",
    "\n",
    "print(SymetricComponents(Va,Vb,Vc))"
   ]
  },
  {
   "cell_type": "code",
   "execution_count": 168,
   "metadata": {},
   "outputs": [
    {
     "name": "stdout",
     "output_type": "stream",
     "text": [
      "[(18.78-10.06j), (50.66+14.325j), (30.559-4.265j)]\n"
     ]
    }
   ],
   "source": [
    "SymetricComponents = BasicElectrical().SymetricComponents\n",
    "\n",
    "polar = BasicElectrical().polar\n",
    "\n",
    "Va = polar(100,0)\n",
    "\n",
    "Vb = polar(33,-100)\n",
    "\n",
    "Vc = polar(38,176.5)\n",
    "\n",
    "print(SymetricComponents(Va,Vb,Vc))"
   ]
  },
  {
   "cell_type": "code",
   "execution_count": 169,
   "metadata": {},
   "outputs": [
    {
     "name": "stdout",
     "output_type": "stream",
     "text": [
      "Ia0: (-0+2.373j)\n",
      "Ia1: -3.051j\n",
      "Ia2: (-0+0.678j)\n",
      "Va0: (0.237+0j)\n",
      "Va1: (0.237+0j)\n",
      "Va2: (0.237+0j)\n",
      "Va: (0.711+0j)\n",
      "Vb: 0j\n",
      "Vc: 0j\n",
      "Ia: 0j\n",
      "Ib: (-3.229+3.559j)\n",
      "Ic: (3.229+3.56j)\n"
     ]
    }
   ],
   "source": [
    "z0 = complex(0,0.1)\n",
    "\n",
    "z1 = complex(0,0.25)\n",
    "\n",
    "z2 = complex(0,0.35)\n",
    "\n",
    "Ea = 1\n",
    "\n",
    "faults = Faults(Ea,z0,z1,z2)\n",
    "\n",
    "FaultData = faults.DoubleLineGroundFault()"
   ]
  },
  {
   "cell_type": "code",
   "execution_count": 188,
   "metadata": {},
   "outputs": [],
   "source": [
    "E = BasicElectrical()\n",
    "\n",
    "z = complex(10,35.1)\n",
    "\n",
    "y = complex(0,3.13*pow(10,-4))\n",
    "\n",
    "A = E.ABCD_T(z,y)"
   ]
  },
  {
   "cell_type": "code",
   "execution_count": 171,
   "metadata": {},
   "outputs": [
    {
     "data": {
      "text/plain": [
       "array([[0.995+1.565e-03j, 9.945+3.501e+01j],\n",
       "       [0.   +3.130e-04j, 0.995+1.565e-03j]])"
      ]
     },
     "execution_count": 171,
     "metadata": {},
     "output_type": "execute_result"
    }
   ],
   "source": [
    "A"
   ]
  },
  {
   "cell_type": "code",
   "execution_count": 172,
   "metadata": {},
   "outputs": [],
   "source": [
    "R = np.asarray([[66],[E.polar(218.96,-36.86)]])"
   ]
  },
  {
   "cell_type": "code",
   "execution_count": 173,
   "metadata": {},
   "outputs": [
    {
     "data": {
      "text/plain": [
       "array([[ 66.     +0.j   ],\n",
       "       [175.191-131.346j]])"
      ]
     },
     "execution_count": 173,
     "metadata": {},
     "output_type": "execute_result"
    }
   ],
   "source": [
    "R"
   ]
  },
  {
   "cell_type": "code",
   "execution_count": 174,
   "metadata": {},
   "outputs": [],
   "source": [
    "S = np.matmul(A,R)"
   ]
  },
  {
   "cell_type": "code",
   "execution_count": 175,
   "metadata": {},
   "outputs": [
    {
     "data": {
      "text/plain": [
       "array([[6406.534+4827.544j],\n",
       "       [ 174.434 -130.33j ]])"
      ]
     },
     "execution_count": 175,
     "metadata": {},
     "output_type": "execute_result"
    }
   ],
   "source": [
    "S"
   ]
  },
  {
   "cell_type": "code",
   "execution_count": 189,
   "metadata": {},
   "outputs": [
    {
     "data": {
      "text/plain": [
       "-22000j"
      ]
     },
     "execution_count": 189,
     "metadata": {},
     "output_type": "execute_result"
    }
   ],
   "source": [
    "V = polar(220,0)\n",
    "\n",
    "I = polar(100,90)\n",
    "\n",
    "E.power(V,I)"
   ]
  },
  {
   "cell_type": "code",
   "execution_count": 190,
   "metadata": {},
   "outputs": [
    {
     "data": {
      "text/plain": [
       "-3.991"
      ]
     },
     "execution_count": 190,
     "metadata": {},
     "output_type": "execute_result"
    }
   ],
   "source": [
    "A = polar(1,56)\n",
    "\n",
    "B = polar(2,60)\n",
    "\n",
    "E.PhaseDiff(A,B)"
   ]
  },
  {
   "cell_type": "code",
   "execution_count": 191,
   "metadata": {},
   "outputs": [
    {
     "data": {
      "text/plain": [
       "1j"
      ]
     },
     "execution_count": 191,
     "metadata": {},
     "output_type": "execute_result"
    }
   ],
   "source": [
    "np.sqrt(complex(-1,0))"
   ]
  },
  {
   "cell_type": "code",
   "execution_count": 194,
   "metadata": {},
   "outputs": [
    {
     "data": {
      "text/plain": [
       "{'gama': '2.485 at an angle 75.473',\n",
       " 'alpha': '0.623 at an angle 0.0',\n",
       " 'beta': '2.406 at an angle 0.0',\n",
       " 'SurgeImpedence': '0.414 at an angle -14.527'}"
      ]
     },
     "execution_count": 194,
     "metadata": {},
     "output_type": "execute_result"
    }
   ],
   "source": [
    "z = complex(0.5,0.9)\n",
    "\n",
    "y = complex(0,6)\n",
    "\n",
    "E.propagation_constants(z,y,200)"
   ]
  },
  {
   "cell_type": "code",
   "execution_count": 197,
   "metadata": {},
   "outputs": [
    {
     "data": {
      "text/plain": [
       "(2.33+4.56j)"
      ]
     },
     "execution_count": 197,
     "metadata": {},
     "output_type": "execute_result"
    }
   ],
   "source": [
    "np.around(complex(2.33333,4.55555),2)"
   ]
  }
 ],
 "metadata": {
  "kernelspec": {
   "display_name": "Python 3.6.3 32-bit",
   "language": "python",
   "name": "python36332bita32b11c6f794474eba45a8820d646165"
  },
  "language_info": {
   "codemirror_mode": {
    "name": "ipython",
    "version": 3
   },
   "file_extension": ".py",
   "mimetype": "text/x-python",
   "name": "python",
   "nbconvert_exporter": "python",
   "pygments_lexer": "ipython3",
   "version": "3.6.3"
  }
 },
 "nbformat": 4,
 "nbformat_minor": 4
}
